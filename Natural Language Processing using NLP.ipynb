{
 "cells": [
  {
   "cell_type": "markdown",
   "id": "f64dd032-3db8-4c28-81ee-90f32a3fae97",
   "metadata": {},
   "source": [
    "# Natural Language processing"
   ]
  },
  {
   "cell_type": "markdown",
   "id": "b4ddaad0-3217-4b79-8a3c-d0af482946de",
   "metadata": {},
   "source": [
    "## Import the Libraries"
   ]
  },
  {
   "cell_type": "code",
   "execution_count": 1,
   "id": "3a62f93d-329e-4168-bdf0-ba7d90392876",
   "metadata": {},
   "outputs": [],
   "source": [
    "import numpy as np\n",
    "import matplotlib.pyplot as plt\n",
    "import pandas as pd\n",
    "import re\n",
    "import nltk"
   ]
  },
  {
   "cell_type": "code",
   "execution_count": 2,
   "id": "80258f62-5df1-46e2-8ec3-6c462451e301",
   "metadata": {},
   "outputs": [],
   "source": [
    "dataset = pd.read_csv(\"Restaurant_Reviews.tsv\" , delimiter = \"\\t\", quoting=3)"
   ]
  },
  {
   "cell_type": "code",
   "execution_count": 3,
   "id": "9ffc048e-a21a-40e7-8763-62f5f168b4c5",
   "metadata": {},
   "outputs": [
    {
     "name": "stderr",
     "output_type": "stream",
     "text": [
      "[nltk_data] Downloading package stopwords to\n",
      "[nltk_data]     C:\\Users\\Rauf\\AppData\\Roaming\\nltk_data...\n",
      "[nltk_data]   Package stopwords is already up-to-date!\n"
     ]
    }
   ],
   "source": [
    "import nltk\n",
    "nltk.download(\"stopwords\")\n",
    "from nltk.corpus import stopwords\n",
    "from nltk.stem.porter import PorterStemmer # stemming the words to their original form."
   ]
  },
  {
   "cell_type": "markdown",
   "id": "7f87ae12-cb3b-4437-8231-f3cb56cc1c56",
   "metadata": {},
   "source": [
    "## Cleaning the dataset"
   ]
  },
  {
   "cell_type": "code",
   "execution_count": 4,
   "id": "122e99d1-0041-4ee1-882c-c866de060197",
   "metadata": {},
   "outputs": [],
   "source": [
    "corpus = []\n",
    "ps = PorterStemmer()  \n",
    "stop_words = set(stopwords.words(\"english\"))\n",
    "stop_words.discard(\"not\")\n",
    "\n",
    "for i in range(0, 1000):\n",
    "    review = re.sub(\"[^a-zA-Z]\", \" \", dataset[\"Review\"][i])  \n",
    "    review = review.lower()\n",
    "    review = review.split()\n",
    "    review = [ps.stem(word) for word in review if word not in stop_words]\n",
    "    review = \" \".join(review)\n",
    "    corpus.append(review)\n"
   ]
  },
  {
   "cell_type": "code",
   "execution_count": 5,
   "id": "9d331a71-932a-41ae-9cb8-f2712bd7ce0f",
   "metadata": {},
   "outputs": [
    {
     "name": "stdout",
     "output_type": "stream",
     "text": [
      "wow love place\n",
      "crust not good\n",
      "not tasti textur nasti\n",
      "stop late may bank holiday rick steve recommend love\n",
      "select menu great price\n",
      "get angri want damn pho\n",
      "honeslti tast fresh\n",
      "potato like rubber could tell made ahead time kept warmer\n",
      "fri great\n",
      "great touch\n"
     ]
    }
   ],
   "source": [
    "for i in range(10):\n",
    "    print(corpus[i])"
   ]
  },
  {
   "cell_type": "code",
   "execution_count": 6,
   "id": "bc8728a2-af86-4c8d-8bdf-6ba206ab0ae0",
   "metadata": {},
   "outputs": [],
   "source": [
    "import sklearn\n",
    "from sklearn.feature_extraction.text import CountVectorizer\n"
   ]
  },
  {
   "cell_type": "code",
   "execution_count": 7,
   "id": "e42957db-2dd9-42f5-8f16-b2d13fafbfd2",
   "metadata": {},
   "outputs": [],
   "source": [
    "countvectorizer = CountVectorizer(max_features=1500)\n",
    "x = countvectorizer.fit_transform(corpus).toarray()\n",
    "y = dataset.iloc[:,1].values"
   ]
  },
  {
   "cell_type": "code",
   "execution_count": 8,
   "id": "51ed3e24-e2f0-4064-8013-97c91270373b",
   "metadata": {},
   "outputs": [
    {
     "data": {
      "text/plain": [
       "1500"
      ]
     },
     "execution_count": 8,
     "metadata": {},
     "output_type": "execute_result"
    }
   ],
   "source": [
    "len(x[0])"
   ]
  },
  {
   "cell_type": "code",
   "execution_count": 9,
   "id": "2f515bfb-b19c-47b8-969b-6197e343765e",
   "metadata": {},
   "outputs": [],
   "source": [
    "from sklearn.linear_model import LogisticRegression\n",
    "from sklearn.model_selection import train_test_split\n",
    "from sklearn.metrics import accuracy_score"
   ]
  },
  {
   "cell_type": "code",
   "execution_count": 10,
   "id": "e0cd5cfc-3666-4d17-aec0-2ddbce30b126",
   "metadata": {},
   "outputs": [],
   "source": [
    "\n",
    "x_train, x_test, y_train, y_test = train_test_split(x, y, test_size=0.2, random_state=0)\n",
    "\n",
    "classifier = LogisticRegression()\n",
    "classifier.fit(x_train, y_train)\n",
    "y_pred = classifier.predict(x_test)\n"
   ]
  },
  {
   "cell_type": "code",
   "execution_count": 11,
   "id": "9cbb61bf-fbc6-4ded-bc8b-8b99eb750b52",
   "metadata": {},
   "outputs": [
    {
     "name": "stdout",
     "output_type": "stream",
     "text": [
      "[[80 17]\n",
      " [28 75]]\n"
     ]
    },
    {
     "data": {
      "text/plain": [
       "0.775"
      ]
     },
     "execution_count": 11,
     "metadata": {},
     "output_type": "execute_result"
    }
   ],
   "source": [
    "from sklearn.metrics import confusion_matrix, accuracy_score\n",
    "confusionmatrix = confusion_matrix(y_test, y_pred)\n",
    "print(confusionmatrix)\n",
    "accuracy_score(y_test, y_pred)"
   ]
  },
  {
   "cell_type": "code",
   "execution_count": 23,
   "id": "66692e26-ff9b-4eba-ac09-20e7f9ed3437",
   "metadata": {},
   "outputs": [
    {
     "name": "stdout",
     "output_type": "stream",
     "text": [
      "Positive\n"
     ]
    }
   ],
   "source": [
    "import re\n",
    "from nltk.stem.porter import PorterStemmer\n",
    "from nltk.corpus import stopwords\n",
    "\n",
    "def predict_review_sentiment(review, vectorizer, model):\n",
    "    ps = PorterStemmer()\n",
    "    stop_words = set(stopwords.words(\"english\"))\n",
    "    stop_words.discard(\"not\")  # Keep \"not\" to preserve negation meaning\n",
    "    \n",
    "    review = re.sub(\"[^a-zA-Z]\", \" \", review)  \n",
    "    review = review.lower().split()\n",
    "    review = [ps.stem(word) for word in review if word not in stop_words]\n",
    "    review = \" \".join(review)\n",
    "    \n",
    "    review_vector = vectorizer.transform([review]).toarray()\n",
    "    \n",
    "    # Predict sentiment\n",
    "    prediction = model.predict(review_vector)\n",
    "    \n",
    "    return \"Positive\" if prediction[0] == 1 else \"Negative\"\n",
    "\n",
    "\n",
    "# Example usage\n",
    "new_review = \"The food was absolutely amazing\"\n",
    "print(predict_review_sentiment(new_review, countvectorizer, classifier))\n"
   ]
  },
  {
   "cell_type": "code",
   "execution_count": null,
   "id": "66175abc-188e-4985-9d2e-a6e92aed06d1",
   "metadata": {},
   "outputs": [],
   "source": []
  }
 ],
 "metadata": {
  "kernelspec": {
   "display_name": "Python 3 (ipykernel)",
   "language": "python",
   "name": "python3"
  },
  "language_info": {
   "codemirror_mode": {
    "name": "ipython",
    "version": 3
   },
   "file_extension": ".py",
   "mimetype": "text/x-python",
   "name": "python",
   "nbconvert_exporter": "python",
   "pygments_lexer": "ipython3",
   "version": "3.9.0"
  }
 },
 "nbformat": 4,
 "nbformat_minor": 5
}
